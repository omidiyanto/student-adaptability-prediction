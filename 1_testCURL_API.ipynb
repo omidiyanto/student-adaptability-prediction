{
 "cells": [
  {
   "cell_type": "code",
   "execution_count": 3,
   "metadata": {},
   "outputs": [],
   "source": [
    "import requests\n",
    "from requests.structures import CaseInsensitiveDict"
   ]
  },
  {
   "cell_type": "code",
   "execution_count": 4,
   "metadata": {},
   "outputs": [
    {
     "name": "stdout",
     "output_type": "stream",
     "text": [
      "eyJraWQiOiIyMDIzMDYxMDA4MzIiLCJhbGciOiJSUzI1NiJ9.eyJpYW1faWQiOiJJQk1pZC02NjYwMDNETVlQIiwiaWQiOiJJQk1pZC02NjYwMDNETVlQIiwicmVhbG1pZCI6IklCTWlkIiwianRpIjoiYzkzNWY2NDktZDU4MC00NzRkLTliYjctZmI1NWEyZWU5M2IyIiwiaWRlbnRpZmllciI6IjY2NjAwM0RNWVAiLCJnaXZlbl9uYW1lIjoiTy4iLCJmYW1pbHlfbmFtZSI6Ik1pZGl5YW50byIsIm5hbWUiOiJPLiBNaWRpeWFudG8iLCJlbWFpbCI6IjIwMDEwMTAwMjFAc3R1ZGVudC51bXJhaC5hYy5pZCIsInN1YiI6IjIwMDEwMTAwMjFAc3R1ZGVudC51bXJhaC5hYy5pZCIsImF1dGhuIjp7InN1YiI6IjIwMDEwMTAwMjFAc3R1ZGVudC51bXJhaC5hYy5pZCIsImlhbV9pZCI6IklCTWlkLTY2NjAwM0RNWVAiLCJuYW1lIjoiTy4gTWlkaXlhbnRvIiwiZ2l2ZW5fbmFtZSI6Ik8uIiwiZmFtaWx5X25hbWUiOiJNaWRpeWFudG8iLCJlbWFpbCI6IjIwMDEwMTAwMjFAc3R1ZGVudC51bXJhaC5hYy5pZCJ9LCJhY2NvdW50Ijp7InZhbGlkIjp0cnVlLCJic3MiOiI0ZTU5MTQ4Yjc0ZTY0ZWE2OGM4NzhlZDNhNjM2NThkMCIsImZyb3plbiI6dHJ1ZX0sImlhdCI6MTY4NzI2Mzg2MCwiZXhwIjoxNjg3MjY3NDYwLCJpc3MiOiJodHRwczovL2lhbS5jbG91ZC5pYm0uY29tL29pZGMvdG9rZW4iLCJncmFudF90eXBlIjoidXJuOmlibTpwYXJhbXM6b2F1dGg6Z3JhbnQtdHlwZTphcGlrZXkiLCJzY29wZSI6ImlibSBvcGVuaWQiLCJjbGllbnRfaWQiOiJkZWZhdWx0IiwiYWNyIjoxLCJhbXIiOlsicHdkIl19.K5d_7SZ0BIyqPFnO8-32OSIgwNWIf3fhsmTa6iTZbn5VnSM2BlHUq3EDUKx3Ad2_KjOk9JmUUAm0eVi48-aAUpOf-EmBQvC8OkXOGQcxU-eobLlTwSAiW2hRgN9gsg9KStYaNT_afQCd0xPqYd8E5XDM7mGQBdA3GrxTCdKWvRbpuH4Y_TiK6znb-H7sc-xs5rKk05jlEorfnn_2TUb5Hj5ywsx42pP2vl-PVpvwu1hRmXPCMLacMflIqUznPrkA0CkGU5UoTZhG8EOxHm5JeL3y1RT6e761bRO3TZdwT50AUiMi-6ye37f-fgB530lx7YYxVELxpMmzVCEgnAPf9A\n"
     ]
    }
   ],
   "source": [
    "# Get access token\n",
    "url = \"https://iam.cloud.ibm.com/oidc/token\"\n",
    "headers = CaseInsensitiveDict()\n",
    "headers[\"Content-Type\"] = \"application/x-www-form-urlencoded\"\n",
    "data = \"grant_type=urn:ibm:params:oauth:grant-type:apikey&apikey=3Iw2W6viI8zoZ0rsTa29Fq7cBgltDhv6DU_WK7vt9Ugh\"\n",
    "resp = requests.post(url, headers=headers, data=data)\n",
    "if resp.status_code == 200:\n",
    "    json_resp = resp.json()\n",
    "    access_token = json_resp.get('access_token')\n",
    "    print(access_token)\n",
    "else:\n",
    "    print(\"Failed to retrieve access token. Status code:\", resp.status_code)"
   ]
  },
  {
   "cell_type": "code",
   "execution_count": 14,
   "metadata": {},
   "outputs": [
    {
     "name": "stdout",
     "output_type": "stream",
     "text": [
      "Moderate\n"
     ]
    }
   ],
   "source": [
    "# Get user input\n",
    "Gender_value = str(input(\"Gender=\"))\n",
    "Age_value = str(input(\"Age=\"))\n",
    "Education_value = str(input(\"Education Level=\"))\n",
    "Institution_value = str(input(\"Institution Type=\"))\n",
    "IT_value = str(input(\"IT Student=\"))\n",
    "Location_value = str(input(\"Location=\"))\n",
    "Load_value = str(input(\"Load-shedding=\"))\n",
    "Financial_value = str(input(\"Financial Condition=\"))\n",
    "Internet_value = str(input(\"Internet Type=\"))\n",
    "Network_value = str(input(\"Network Type=\"))\n",
    "Class_value = str(input(\"Class Duration=\"))\n",
    "Self_value = str(input(\"Self Lms=\"))\n",
    "Device_value = str(input(\"Device=\"))\n",
    "\n",
    "\n",
    "#Get Prediction\n",
    "url = \"https://eu-gb.ml.cloud.ibm.com/ml/v4/deployments/0c2a8c67-92d3-43a3-b19b-69c4ae420e32/predictions?version=2021-05-01\"\n",
    "headers = CaseInsensitiveDict()\n",
    "headers[\"Content-Type\"] = \"application/json\"\n",
    "headers[\"Accept\"] = \"application/json\"\n",
    "headers[\"Authorization\"] = \"Bearer \" + access_token\n",
    "\n",
    "data = {\n",
    "    \"input_data\": [\n",
    "        {\n",
    "            \"fields\": [\n",
    "                \"Gender\", \"Age\", \"Education Level\", \"Institution Type\", \"IT Student\", \"Location\",\n",
    "                \"Load-shedding\", \"Financial Condition\", \"Internet Type\", \"Network Type\",\n",
    "                \"Class Duration\", \"Self Lms\", \"Device\"\n",
    "            ],\n",
    "            \"values\": [\n",
    "                [\n",
    "                    Gender_value, Age_value, Education_value, Institution_value, IT_value, Location_value,\n",
    "                    Load_value, Financial_value, Internet_value, Network_value, Class_value,\n",
    "                    Self_value, Device_value\n",
    "                ]\n",
    "            ]\n",
    "        }\n",
    "    ]\n",
    "}\n",
    "\n",
    "resp = requests.post(url, headers=headers, json=data)\n",
    "\n",
    "if resp.status_code == 200:\n",
    "    predictions = resp.json()\n",
    "    prediction_value = predictions['predictions'][0]['values'][0][0]\n",
    "    print(prediction_value)\n",
    "else:\n",
    "    print(\"Error:\", resp.status_code)\n"
   ]
  }
 ],
 "metadata": {
  "kernelspec": {
   "display_name": "Python 3",
   "language": "python",
   "name": "python3"
  },
  "language_info": {
   "codemirror_mode": {
    "name": "ipython",
    "version": 3
   },
   "file_extension": ".py",
   "mimetype": "text/x-python",
   "name": "python",
   "nbconvert_exporter": "python",
   "pygments_lexer": "ipython3",
   "version": "3.11.0"
  },
  "orig_nbformat": 4
 },
 "nbformat": 4,
 "nbformat_minor": 2
}
